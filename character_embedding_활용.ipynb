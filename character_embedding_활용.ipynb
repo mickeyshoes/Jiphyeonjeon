{
  "nbformat": 4,
  "nbformat_minor": 0,
  "metadata": {
    "colab": {
      "name": "character embedding 활용.ipynb",
      "provenance": [],
      "collapsed_sections": [
        "ExIMHgTPFfND",
        "YJelFen7XHKr",
        "o9F1VaYkFvJm",
        "09vSoZvBuERC"
      ]
    },
    "kernelspec": {
      "name": "python3",
      "display_name": "Python 3"
    },
    "language_info": {
      "name": "python"
    }
  },
  "cells": [
    {
      "cell_type": "markdown",
      "source": [
        "# 1. Data preprocessing\n",
        "## import lib"
      ],
      "metadata": {
        "id": "NMp8NtExFWeu"
      }
    },
    {
      "cell_type": "code",
      "execution_count": 1,
      "metadata": {
        "id": "NN4FZXz86vad"
      },
      "outputs": [],
      "source": [
        "import pandas as pd\n",
        "import numpy as np\n",
        "import matplotlib.pyplot as plt\n",
        "import urllib.request\n",
        "from tensorflow.keras.preprocessing.text import Tokenizer\n",
        "from tensorflow.keras.preprocessing.sequence import pad_sequences\n",
        "from sklearn.model_selection import train_test_split\n",
        "from tensorflow.keras.utils import to_categorical"
      ]
    },
    {
      "cell_type": "markdown",
      "source": [
        "## 1) load data and remove duplicated data\n"
      ],
      "metadata": {
        "id": "ExIMHgTPFfND"
      }
    },
    {
      "cell_type": "code",
      "source": [
        "data = pd.read_csv('ner_dataset.csv', encoding='latin1')"
      ],
      "metadata": {
        "id": "_pYHmeSu7Ke8"
      },
      "execution_count": 2,
      "outputs": []
    },
    {
      "cell_type": "code",
      "source": [
        "data.head"
      ],
      "metadata": {
        "colab": {
          "base_uri": "https://localhost:8080/"
        },
        "id": "6etuPiHQ7udn",
        "outputId": "b23bf05e-4e8c-4f1c-d678-2f98702b1b0e"
      },
      "execution_count": 30,
      "outputs": [
        {
          "output_type": "execute_result",
          "data": {
            "text/plain": [
              "<bound method NDFrame.head of           Sentence #           Word  POS Tag\n",
              "0        Sentence: 1      Thousands  NNS   O\n",
              "1                NaN             of   IN   O\n",
              "2                NaN  demonstrators  NNS   O\n",
              "3                NaN           have  VBP   O\n",
              "4                NaN        marched  VBN   O\n",
              "...              ...            ...  ...  ..\n",
              "1048570          NaN           they  PRP   O\n",
              "1048571          NaN      responded  VBD   O\n",
              "1048572          NaN             to   TO   O\n",
              "1048573          NaN            the   DT   O\n",
              "1048574          NaN         attack   NN   O\n",
              "\n",
              "[1048575 rows x 4 columns]>"
            ]
          },
          "metadata": {},
          "execution_count": 30
        }
      ]
    },
    {
      "cell_type": "code",
      "source": [
        "print(f' # of rows : {len(data)}')\n",
        "print(f' null in datas : {data.isnull().values.any()}')"
      ],
      "metadata": {
        "colab": {
          "base_uri": "https://localhost:8080/"
        },
        "id": "LrAIx5lC9JDn",
        "outputId": "c01ef00c-40ab-404e-eb62-267c852ede99"
      },
      "execution_count": 31,
      "outputs": [
        {
          "output_type": "stream",
          "name": "stdout",
          "text": [
            " # of rows : 1048575\n",
            " null in datas : True\n"
          ]
        }
      ]
    },
    {
      "cell_type": "code",
      "source": [
        "print(f'# null in data')\n",
        "print('-'*20)\n",
        "print(data.isnull().sum())"
      ],
      "metadata": {
        "colab": {
          "base_uri": "https://localhost:8080/"
        },
        "id": "FkVJN3FL9hsi",
        "outputId": "0ad1acbb-d4f5-44e6-cd15-dc0a492dcc68"
      },
      "execution_count": 32,
      "outputs": [
        {
          "output_type": "stream",
          "name": "stdout",
          "text": [
            "# null in data\n",
            "--------------------\n",
            "Sentence #    1000616\n",
            "Word                0\n",
            "POS                 0\n",
            "Tag                 0\n",
            "dtype: int64\n"
          ]
        }
      ]
    },
    {
      "cell_type": "code",
      "source": [
        "print(f'rm duplicated data[\\'sencence\\'] : {data[\"Sentence #\"].nunique()}')\n",
        "print(f'rm duplicated data[\\'Word\\'] : {data.Word.nunique()}')\n",
        "print(f'rm duplicated data[\\'Tag\\'] : {data.Tag.nunique()}')"
      ],
      "metadata": {
        "colab": {
          "base_uri": "https://localhost:8080/"
        },
        "id": "SXrj7DHg-Dqc",
        "outputId": "098be40b-3d8f-40e6-9152-62a103014283"
      },
      "execution_count": 33,
      "outputs": [
        {
          "output_type": "stream",
          "name": "stdout",
          "text": [
            "rm duplicated data['sencence'] : 47959\n",
            "rm duplicated data['Word'] : 35178\n",
            "rm duplicated data['Tag'] : 17\n"
          ]
        }
      ]
    },
    {
      "cell_type": "markdown",
      "source": [
        "BIO 표현 방법에서 아무런 태깅도 의미하지 않는 O가 가장 887,908개로 가장 많은 개수를 차지함을 볼 수 있습니다."
      ],
      "metadata": {
        "id": "Eo1gsy53CZHx"
      }
    },
    {
      "cell_type": "code",
      "source": [
        "print('Tag count table')\n",
        "print('-'*20)\n",
        "print(data.groupby('Tag').size().reset_index(name='count'))\n",
        "# groupby object unpacking\n",
        "#for i in data.groupby('Tag'):\n",
        "#  print(i)"
      ],
      "metadata": {
        "colab": {
          "base_uri": "https://localhost:8080/"
        },
        "id": "HCEjUEpQ-hQ1",
        "outputId": "7cd98702-8ace-4314-fff6-68d0821177ad"
      },
      "execution_count": 34,
      "outputs": [
        {
          "output_type": "stream",
          "name": "stdout",
          "text": [
            "Tag count table\n",
            "--------------------\n",
            "      Tag   count\n",
            "0   B-art     402\n",
            "1   B-eve     308\n",
            "2   B-geo   37644\n",
            "3   B-gpe   15870\n",
            "4   B-nat     201\n",
            "5   B-org   20143\n",
            "6   B-per   16990\n",
            "7   B-tim   20333\n",
            "8   I-art     297\n",
            "9   I-eve     253\n",
            "10  I-geo    7414\n",
            "11  I-gpe     198\n",
            "12  I-nat      51\n",
            "13  I-org   16784\n",
            "14  I-per   17251\n",
            "15  I-tim    6528\n",
            "16      O  887908\n"
          ]
        }
      ]
    },
    {
      "cell_type": "markdown",
      "source": [
        "- fillna(method='ffill')을 활용하여 null 값을 가진 바로 이전행의 값으로 초기화\n",
        "  * ffill : front fill로 추정"
      ],
      "metadata": {
        "id": "ue0fLnncCq87"
      }
    },
    {
      "cell_type": "code",
      "source": [
        "data = data.fillna(method='ffill')\n",
        "print(data[-5:-1])\n",
        "print(data.isnull().any())"
      ],
      "metadata": {
        "colab": {
          "base_uri": "https://localhost:8080/"
        },
        "id": "YqqNRwBB_5Bn",
        "outputId": "2ac9caa6-9f6e-4dc0-af3d-b78423b2e080"
      },
      "execution_count": 4,
      "outputs": [
        {
          "output_type": "stream",
          "name": "stdout",
          "text": [
            "              Sentence #       Word  POS Tag\n",
            "1048570  Sentence: 47959       they  PRP   O\n",
            "1048571  Sentence: 47959  responded  VBD   O\n",
            "1048572  Sentence: 47959         to   TO   O\n",
            "1048573  Sentence: 47959        the   DT   O\n",
            "Sentence #    False\n",
            "Word          False\n",
            "POS           False\n",
            "Tag           False\n",
            "dtype: bool\n"
          ]
        }
      ]
    },
    {
      "cell_type": "markdown",
      "source": [
        "- 대문자->소문자(문자의 갯수를 줄이기 위함, 어차피 같은 뜻이기도 함)"
      ],
      "metadata": {
        "id": "de2qJ_3IDrTq"
      }
    },
    {
      "cell_type": "code",
      "source": [
        "print(f'before upper to lower, rm duplicated of data[\\'Word\\'] : {data.Word.nunique()}')\n",
        "data['Word'] = data['Word'].str.lower()\n",
        "print(f'after upper to lower, rm duplicated of data[\\'Word\\'] : {data.Word.nunique()}')\n",
        "data[-6:-1]"
      ],
      "metadata": {
        "colab": {
          "base_uri": "https://localhost:8080/",
          "height": 242
        },
        "id": "roRAPSucDBPe",
        "outputId": "e8bac9f1-6c1a-4722-fd7d-a6d6dc36504c"
      },
      "execution_count": 5,
      "outputs": [
        {
          "output_type": "stream",
          "name": "stdout",
          "text": [
            "before upper to lower, rm duplicated of data['Word'] : 35178\n",
            "after upper to lower, rm duplicated of data['Word'] : 31817\n"
          ]
        },
        {
          "output_type": "execute_result",
          "data": {
            "text/plain": [
              "              Sentence #       Word  POS Tag\n",
              "1048569  Sentence: 47959       said  VBD   O\n",
              "1048570  Sentence: 47959       they  PRP   O\n",
              "1048571  Sentence: 47959  responded  VBD   O\n",
              "1048572  Sentence: 47959         to   TO   O\n",
              "1048573  Sentence: 47959        the   DT   O"
            ],
            "text/html": [
              "\n",
              "  <div id=\"df-146c6fc2-94f6-43f9-ba75-78d6f1934dfd\">\n",
              "    <div class=\"colab-df-container\">\n",
              "      <div>\n",
              "<style scoped>\n",
              "    .dataframe tbody tr th:only-of-type {\n",
              "        vertical-align: middle;\n",
              "    }\n",
              "\n",
              "    .dataframe tbody tr th {\n",
              "        vertical-align: top;\n",
              "    }\n",
              "\n",
              "    .dataframe thead th {\n",
              "        text-align: right;\n",
              "    }\n",
              "</style>\n",
              "<table border=\"1\" class=\"dataframe\">\n",
              "  <thead>\n",
              "    <tr style=\"text-align: right;\">\n",
              "      <th></th>\n",
              "      <th>Sentence #</th>\n",
              "      <th>Word</th>\n",
              "      <th>POS</th>\n",
              "      <th>Tag</th>\n",
              "    </tr>\n",
              "  </thead>\n",
              "  <tbody>\n",
              "    <tr>\n",
              "      <th>1048569</th>\n",
              "      <td>Sentence: 47959</td>\n",
              "      <td>said</td>\n",
              "      <td>VBD</td>\n",
              "      <td>O</td>\n",
              "    </tr>\n",
              "    <tr>\n",
              "      <th>1048570</th>\n",
              "      <td>Sentence: 47959</td>\n",
              "      <td>they</td>\n",
              "      <td>PRP</td>\n",
              "      <td>O</td>\n",
              "    </tr>\n",
              "    <tr>\n",
              "      <th>1048571</th>\n",
              "      <td>Sentence: 47959</td>\n",
              "      <td>responded</td>\n",
              "      <td>VBD</td>\n",
              "      <td>O</td>\n",
              "    </tr>\n",
              "    <tr>\n",
              "      <th>1048572</th>\n",
              "      <td>Sentence: 47959</td>\n",
              "      <td>to</td>\n",
              "      <td>TO</td>\n",
              "      <td>O</td>\n",
              "    </tr>\n",
              "    <tr>\n",
              "      <th>1048573</th>\n",
              "      <td>Sentence: 47959</td>\n",
              "      <td>the</td>\n",
              "      <td>DT</td>\n",
              "      <td>O</td>\n",
              "    </tr>\n",
              "  </tbody>\n",
              "</table>\n",
              "</div>\n",
              "      <button class=\"colab-df-convert\" onclick=\"convertToInteractive('df-146c6fc2-94f6-43f9-ba75-78d6f1934dfd')\"\n",
              "              title=\"Convert this dataframe to an interactive table.\"\n",
              "              style=\"display:none;\">\n",
              "        \n",
              "  <svg xmlns=\"http://www.w3.org/2000/svg\" height=\"24px\"viewBox=\"0 0 24 24\"\n",
              "       width=\"24px\">\n",
              "    <path d=\"M0 0h24v24H0V0z\" fill=\"none\"/>\n",
              "    <path d=\"M18.56 5.44l.94 2.06.94-2.06 2.06-.94-2.06-.94-.94-2.06-.94 2.06-2.06.94zm-11 1L8.5 8.5l.94-2.06 2.06-.94-2.06-.94L8.5 2.5l-.94 2.06-2.06.94zm10 10l.94 2.06.94-2.06 2.06-.94-2.06-.94-.94-2.06-.94 2.06-2.06.94z\"/><path d=\"M17.41 7.96l-1.37-1.37c-.4-.4-.92-.59-1.43-.59-.52 0-1.04.2-1.43.59L10.3 9.45l-7.72 7.72c-.78.78-.78 2.05 0 2.83L4 21.41c.39.39.9.59 1.41.59.51 0 1.02-.2 1.41-.59l7.78-7.78 2.81-2.81c.8-.78.8-2.07 0-2.86zM5.41 20L4 18.59l7.72-7.72 1.47 1.35L5.41 20z\"/>\n",
              "  </svg>\n",
              "      </button>\n",
              "      \n",
              "  <style>\n",
              "    .colab-df-container {\n",
              "      display:flex;\n",
              "      flex-wrap:wrap;\n",
              "      gap: 12px;\n",
              "    }\n",
              "\n",
              "    .colab-df-convert {\n",
              "      background-color: #E8F0FE;\n",
              "      border: none;\n",
              "      border-radius: 50%;\n",
              "      cursor: pointer;\n",
              "      display: none;\n",
              "      fill: #1967D2;\n",
              "      height: 32px;\n",
              "      padding: 0 0 0 0;\n",
              "      width: 32px;\n",
              "    }\n",
              "\n",
              "    .colab-df-convert:hover {\n",
              "      background-color: #E2EBFA;\n",
              "      box-shadow: 0px 1px 2px rgba(60, 64, 67, 0.3), 0px 1px 3px 1px rgba(60, 64, 67, 0.15);\n",
              "      fill: #174EA6;\n",
              "    }\n",
              "\n",
              "    [theme=dark] .colab-df-convert {\n",
              "      background-color: #3B4455;\n",
              "      fill: #D2E3FC;\n",
              "    }\n",
              "\n",
              "    [theme=dark] .colab-df-convert:hover {\n",
              "      background-color: #434B5C;\n",
              "      box-shadow: 0px 1px 3px 1px rgba(0, 0, 0, 0.15);\n",
              "      filter: drop-shadow(0px 1px 2px rgba(0, 0, 0, 0.3));\n",
              "      fill: #FFFFFF;\n",
              "    }\n",
              "  </style>\n",
              "\n",
              "      <script>\n",
              "        const buttonEl =\n",
              "          document.querySelector('#df-146c6fc2-94f6-43f9-ba75-78d6f1934dfd button.colab-df-convert');\n",
              "        buttonEl.style.display =\n",
              "          google.colab.kernel.accessAllowed ? 'block' : 'none';\n",
              "\n",
              "        async function convertToInteractive(key) {\n",
              "          const element = document.querySelector('#df-146c6fc2-94f6-43f9-ba75-78d6f1934dfd');\n",
              "          const dataTable =\n",
              "            await google.colab.kernel.invokeFunction('convertToInteractive',\n",
              "                                                     [key], {});\n",
              "          if (!dataTable) return;\n",
              "\n",
              "          const docLinkHtml = 'Like what you see? Visit the ' +\n",
              "            '<a target=\"_blank\" href=https://colab.research.google.com/notebooks/data_table.ipynb>data table notebook</a>'\n",
              "            + ' to learn more about interactive tables.';\n",
              "          element.innerHTML = '';\n",
              "          dataTable['output_type'] = 'display_data';\n",
              "          await google.colab.output.renderOutput(dataTable, element);\n",
              "          const docLink = document.createElement('div');\n",
              "          docLink.innerHTML = docLinkHtml;\n",
              "          element.appendChild(docLink);\n",
              "        }\n",
              "      </script>\n",
              "    </div>\n",
              "  </div>\n",
              "  "
            ]
          },
          "metadata": {},
          "execution_count": 5
        }
      ]
    },
    {
      "cell_type": "markdown",
      "source": [
        "## 2) transform tagging infos to integer incoding, EDA"
      ],
      "metadata": {
        "id": "YJelFen7XHKr"
      }
    },
    {
      "cell_type": "markdown",
      "source": [
        "- 문장에 등장한 단어와 Tag 정보끼리 페어링"
      ],
      "metadata": {
        "id": "DeGNxW86RcHf"
      }
    },
    {
      "cell_type": "code",
      "source": [
        "lambda_func = lambda temp: [(w,t) for w,t in zip(temp['Word'].values.tolist(), temp['Tag'].values.tolist())]\n",
        "\n",
        "print(f'before total sample count : {data.isnull().sum()[\"Sentence #\"]}') # 1000616\n",
        "tagged_sentences = [t for t in data.groupby('Sentence #').apply(lambda_func)]\n",
        "print(f'after total sample count : {len(tagged_sentences)}')\n",
        "print(f'sample : {tagged_sentences[0]}')"
      ],
      "metadata": {
        "colab": {
          "base_uri": "https://localhost:8080/"
        },
        "id": "58UAcHR-RlCl",
        "outputId": "29028669-d9a5-49d6-a9d4-a24e5f175688"
      },
      "execution_count": 71,
      "outputs": [
        {
          "output_type": "stream",
          "name": "stdout",
          "text": [
            "before total sample count : 0\n",
            "after total sample count : 47959\n",
            "sample : [('thousands', 'O'), ('of', 'O'), ('demonstrators', 'O'), ('have', 'O'), ('marched', 'O'), ('through', 'O'), ('london', 'B-geo'), ('to', 'O'), ('protest', 'O'), ('the', 'O'), ('war', 'O'), ('in', 'O'), ('iraq', 'B-geo'), ('and', 'O'), ('demand', 'O'), ('the', 'O'), ('withdrawal', 'O'), ('of', 'O'), ('british', 'B-gpe'), ('troops', 'O'), ('from', 'O'), ('that', 'O'), ('country', 'O'), ('.', 'O')]\n"
          ]
        }
      ]
    },
    {
      "cell_type": "markdown",
      "source": [
        "- 학습을 시키기 위해 단어와 tag 정보 분리"
      ],
      "metadata": {
        "id": "q2_3Aj97UT_r"
      }
    },
    {
      "cell_type": "code",
      "source": [
        "sentences, ner_tags = list(), list()\n",
        "\n",
        "for tagged_sentence in tagged_sentences:\n",
        "\n",
        "  s, t = zip(*tagged_sentence)\n",
        "  #unpacking item type == tuple\n",
        "  #Tokenizer.fit_on_text 내부에서 lower() 수행하기 때문에 tuple로 들어가면 안됨\n",
        "  sentences.append(list(s))\n",
        "  ner_tags.append(list(t))"
      ],
      "metadata": {
        "id": "LDug-JzyUk93"
      },
      "execution_count": 72,
      "outputs": []
    },
    {
      "cell_type": "markdown",
      "source": [
        "- 전체 데이터의 문장 길이 분포 확인\n",
        "  - 0에서 40 사이로 분포하고 있음"
      ],
      "metadata": {
        "id": "oysX-NDNVHFc"
      }
    },
    {
      "cell_type": "code",
      "source": [
        "print(f'longest sentence len: {max(len(s) for s in sentences)}')\n",
        "print(f'mean sentence len: {sum(map(len, sentences))/len(sentences)}')\n",
        "plt.hist([len(s) for s in sentences], bins=50)\n",
        "plt.xlabel('length of samples')\n",
        "plt.ylabel('number of samples')\n",
        "plt.show()"
      ],
      "metadata": {
        "colab": {
          "base_uri": "https://localhost:8080/",
          "height": 315
        },
        "id": "5aGzXA3RVMuI",
        "outputId": "6d2ac0b8-a3b0-4971-a49a-fd5b15df4d08"
      },
      "execution_count": 73,
      "outputs": [
        {
          "output_type": "stream",
          "name": "stdout",
          "text": [
            "longest sentence len: 104\n",
            "mean sentence len: 21.863987989741236\n"
          ]
        },
        {
          "output_type": "display_data",
          "data": {
            "text/plain": [
              "<Figure size 432x288 with 1 Axes>"
            ],
            "image/png": "[encoded data removed]"
          },
          "metadata": {
            "needs_background": "light"
          }
        }
      ]
    },
    {
      "cell_type": "markdown",
      "source": [
        "- keras tokenizer 를 활용한 정수 인코딩"
      ],
      "metadata": {
        "id": "hl6pvSuEYCY3"
      }
    },
    {
      "cell_type": "code",
      "source": [
        "# 모든 단어 사용, idx[1] = OOV\n",
        "src_tokenizer = Tokenizer(oov_token=\"OOV\")\n",
        "src_tokenizer.fit_on_texts(sentences)\n",
        "# tag 정보 대문자 유지\n",
        "tar_tokenizer = Tokenizer(lower=False)\n",
        "tar_tokenizer.fit_on_texts(ner_tags)\n",
        "\n",
        "vocab_size = len(src_tokenizer.word_index) + 1\n",
        "tag_size = len(tar_tokenizer.word_index) + 1\n",
        "print(f'word_vocab len : {vocab_size}\\ntag_vocab len : {tag_size}')\n",
        "print(f'idx of OOV : {src_tokenizer.word_index[\"OOV\"]}')"
      ],
      "metadata": {
        "colab": {
          "base_uri": "https://localhost:8080/"
        },
        "id": "Xrk21N1xYGtK",
        "outputId": "6f142c6d-4fea-47ec-d13b-b693b0066cea"
      },
      "execution_count": 74,
      "outputs": [
        {
          "output_type": "stream",
          "name": "stdout",
          "text": [
            "word_vocab len : 31819\n",
            "tag_vocab len : 18\n",
            "idx of OOV : 1\n"
          ]
        }
      ]
    },
    {
      "cell_type": "markdown",
      "source": [
        "- 정수 인코딩 진행"
      ],
      "metadata": {
        "id": "sfGg_LK9fKKm"
      }
    },
    {
      "cell_type": "code",
      "source": [
        "X_data = src_tokenizer.texts_to_sequences(sentences)\n",
        "Y_data = tar_tokenizer.texts_to_sequences(ner_tags)\n",
        "\n",
        "print(X_data[0])\n",
        "print(Y_data[0])"
      ],
      "metadata": {
        "colab": {
          "base_uri": "https://localhost:8080/"
        },
        "id": "IW1gFQDqlArW",
        "outputId": "3447e7ea-64ea-4969-d4f4-8607b7749092"
      },
      "execution_count": 75,
      "outputs": [
        {
          "output_type": "stream",
          "name": "stdout",
          "text": [
            "[254, 6, 967, 16, 1795, 238, 468, 7, 523, 2, 129, 5, 61, 9, 571, 2, 833, 6, 186, 90, 22, 15, 56, 3]\n",
            "[1, 1, 1, 1, 1, 1, 2, 1, 1, 1, 1, 1, 2, 1, 1, 1, 1, 1, 8, 1, 1, 1, 1, 1]\n"
          ]
        }
      ]
    },
    {
      "cell_type": "markdown",
      "source": [
        "- 모델 훈련 후, 결과 확인을 위한 변수 지정\n",
        "  - index_to_word : 인덱스로부터 단어 리턴\n",
        "  - index_to_ner : 인덱스로부터 tag 리턴"
      ],
      "metadata": {
        "id": "sXXLF2WXlWD1"
      }
    },
    {
      "cell_type": "code",
      "source": [
        "word_to_index = src_tokenizer.word_index\n",
        "index_to_word = src_tokenizer.index_word\n",
        "\n",
        "ner_to_index = tar_tokenizer.word_index\n",
        "index_to_ner = tar_tokenizer.index_word\n",
        "index_to_ner[0] = \"PAD\"\n",
        "\n",
        "index_to_ner"
      ],
      "metadata": {
        "colab": {
          "base_uri": "https://localhost:8080/"
        },
        "id": "xE_YmKcUlp4T",
        "outputId": "35140fb6-cf96-4941-de83-3de6bb22b616"
      },
      "execution_count": 76,
      "outputs": [
        {
          "output_type": "execute_result",
          "data": {
            "text/plain": [
              "{0: 'PAD',\n",
              " 1: 'O',\n",
              " 2: 'B-geo',\n",
              " 3: 'B-tim',\n",
              " 4: 'B-org',\n",
              " 5: 'I-per',\n",
              " 6: 'B-per',\n",
              " 7: 'I-org',\n",
              " 8: 'B-gpe',\n",
              " 9: 'I-geo',\n",
              " 10: 'I-tim',\n",
              " 11: 'B-art',\n",
              " 12: 'B-eve',\n",
              " 13: 'I-art',\n",
              " 14: 'I-eve',\n",
              " 15: 'B-nat',\n",
              " 16: 'I-gpe',\n",
              " 17: 'I-nat'}"
            ]
          },
          "metadata": {},
          "execution_count": 76
        }
      ]
    },
    {
      "cell_type": "markdown",
      "source": [
        "## 3) 문자 임베딩을 위한 preprocessing"
      ],
      "metadata": {
        "id": "o9F1VaYkFvJm"
      }
    },
    {
      "cell_type": "markdown",
      "source": [
        "- 문자와 매핑된 정수를 각각 임베딩 층을 거치도록 하여, 문자 단위의 임베딩을 얻어낸다\n",
        "  - 전체 데이터의 모든 단어를 문자 레벨로 분해 -> 문자 집합 생성"
      ],
      "metadata": {
        "id": "-GplLNDoGOr4"
      }
    },
    {
      "cell_type": "code",
      "source": [
        "words = list(set(data['Word'].values))\n",
        "chars = set([char for word in words for char in word])\n",
        "chars = sorted(list(chars))\n",
        "print('char set elements')\n",
        "print('-'*50)\n",
        "for i in range(len(chars)//9):\n",
        "  print(chars[i*9:i*9+9])"
      ],
      "metadata": {
        "colab": {
          "base_uri": "https://localhost:8080/"
        },
        "id": "RbP_YflYFzK2",
        "outputId": "8e2bf74e-3666-42cb-979b-8e11a7554fe0"
      },
      "execution_count": 55,
      "outputs": [
        {
          "output_type": "stream",
          "name": "stdout",
          "text": [
            "char set elements\n",
            "--------------------------------------------------\n",
            "['!', '\"', '#', '$', '%', '&', \"'\", '(', ')']\n",
            "['+', ',', '-', '.', '/', '0', '1', '2', '3']\n",
            "['4', '5', '6', '7', '8', '9', ':', ';', '?']\n",
            "['@', '[', ']', '_', '`', 'a', 'b', 'c', 'd']\n",
            "['e', 'f', 'g', 'h', 'i', 'j', 'k', 'l', 'm']\n",
            "['n', 'o', 'p', 'q', 'r', 's', 't', 'u', 'v']\n",
            "['w', 'x', 'y', 'z', '~', '\\x85', '\\x91', '\\x92', '\\x93']\n",
            "['\\x94', '\\x96', '\\x97', '\\xa0', '°', 'é', 'ë', 'ö', 'ü']\n"
          ]
        }
      ]
    },
    {
      "cell_type": "markdown",
      "source": [
        "- 딕셔너리 생성\n",
        "  - char to index\n",
        "  - index to char"
      ],
      "metadata": {
        "id": "xnoxT9dlJHcj"
      }
    },
    {
      "cell_type": "code",
      "source": [
        "char_to_idx = {val : idx+2 for idx,val in enumerate(chars)}\n",
        "char_to_idx[\"OOV\"] = 1\n",
        "char_to_idx[\"PAD\"] = 0\n",
        "\n",
        "idx_to_char = {}\n",
        "for k,v in char_to_idx.items():\n",
        "  idx_to_char[v] = k"
      ],
      "metadata": {
        "id": "vZAhlkHMGzmW"
      },
      "execution_count": 56,
      "outputs": []
    },
    {
      "cell_type": "markdown",
      "source": [
        "- 문자의 최대 길이를 15로 제한한 후, 그 미만의 문장 패딩 추가\n",
        "  - post padding 하는 이유?"
      ],
      "metadata": {
        "id": "AmFjZIu0Nw5w"
      }
    },
    {
      "cell_type": "code",
      "source": [
        "max_len_sentence = 15\n",
        "\n",
        "def padding_char_indice(char_indice:list, max_len_sentence:int):\n",
        "  return pad_sequences(char_indice, maxlen=max_len_sentence, padding='post', value=0)\n",
        "\n",
        "# word to sequence and padding\n",
        "def integer_coding(sentences):\n",
        "  char_data = []\n",
        "  for sentence in sentences:\n",
        "    word_indice = [word_to_index[word] for word in sentence]\n",
        "    char_indice = [[char_to_idx[char] for char in word] for word in sentence]\n",
        "    char_indice = padding_char_indice(char_indice, max_len_sentence)\n",
        "\n",
        "    for char_token in char_indice:\n",
        "      if len(char_token) > max_len_sentence:\n",
        "        continue\n",
        "    char_data.append(char_indice)\n",
        "  return char_data\n",
        "\n",
        "X_char_data = integer_coding(sentences)"
      ],
      "metadata": {
        "id": "4WWIOTmmJ1Rp"
      },
      "execution_count": 35,
      "outputs": []
    },
    {
      "cell_type": "code",
      "source": [
        "print('before\\tafter')\n",
        "for bef, af in zip(sentences[0], X_data[0]):\n",
        "  print(f'{bef}\\t{af}')"
      ],
      "metadata": {
        "colab": {
          "base_uri": "https://localhost:8080/"
        },
        "id": "cI9_wWomd8t4",
        "outputId": "3c186d59-554a-4ef1-bba3-7ce968a2d264"
      },
      "execution_count": 43,
      "outputs": [
        {
          "output_type": "stream",
          "name": "stdout",
          "text": [
            "before\tafter\n",
            "thousands\t254\n",
            "of\t6\n",
            "demonstrators\t967\n",
            "have\t16\n",
            "marched\t1795\n",
            "through\t238\n",
            "london\t468\n",
            "to\t7\n",
            "protest\t523\n",
            "the\t2\n",
            "war\t129\n",
            "in\t5\n",
            "iraq\t61\n",
            "and\t9\n",
            "demand\t571\n",
            "the\t2\n",
            "withdrawal\t833\n",
            "of\t6\n",
            "british\t186\n",
            "troops\t90\n",
            "from\t22\n",
            "that\t15\n",
            "country\t56\n",
            ".\t3\n"
          ]
        }
      ]
    },
    {
      "cell_type": "markdown",
      "source": [
        "## 4) Data split"
      ],
      "metadata": {
        "id": "09vSoZvBuERC"
      }
    },
    {
      "cell_type": "markdown",
      "source": [
        "- max_len(70) 만큼 패딩 진행 및 train/test set 분리"
      ],
      "metadata": {
        "id": "nsp365q5ng9N"
      }
    },
    {
      "cell_type": "code",
      "source": [
        "max_len = 70\n",
        "# padding to sequence\n",
        "X_data = pad_sequences(X_data, maxlen=max_len, padding='post', value=0)\n",
        "Y_data = pad_sequences(Y_data, maxlen=max_len, padding='post', value=0)\n",
        "X_char_data = pad_sequences(X_char_data, maxlen=max_len, padding='post', value=0)"
      ],
      "metadata": {
        "id": "6hJtylzUmgq4"
      },
      "execution_count": 63,
      "outputs": []
    },
    {
      "cell_type": "code",
      "source": [
        "#split train/test data\n",
        "X_train, X_test, Y_train_int, Y_test_int = train_test_split(X_data, Y_data, test_size=.2, random_state=777)\n",
        "X_char_train, X_char_test, _, _ = train_test_split(X_char_data, Y_data, test_size=.2, random_state=777)\n",
        "\n",
        "X_char_train = np.array(X_char_train)\n",
        "X_char_test = np.array(X_char_test)"
      ],
      "metadata": {
        "id": "F7Icq9otn5q2"
      },
      "execution_count": 68,
      "outputs": []
    },
    {
      "cell_type": "code",
      "source": [
        "#one-hot encoding to tag info\n",
        "Y_train = to_categorical(Y_train_int, num_classes=tag_size)\n",
        "Y_test = to_categorical(Y_test_int, num_classes=tag_size)"
      ],
      "metadata": {
        "id": "UjFI4UNltXij"
      },
      "execution_count": 69,
      "outputs": []
    },
    {
      "cell_type": "code",
      "source": [
        "print(f'first word of sentence\\' 150th : {index_to_word[150]}')\n",
        "\n",
        "for col in X_char_train[0]:\n",
        "  for idx in col:\n",
        "    if idx != 0:\n",
        "      print(idx_to_char[idx], end='')\n",
        "  print(end=' ')"
      ],
      "metadata": {
        "colab": {
          "base_uri": "https://localhost:8080/"
        },
        "id": "vktA2MMqohx9",
        "outputId": "14ac4eb5-8837-4d58-faf8-ce9cefa13e1b"
      },
      "execution_count": 66,
      "outputs": [
        {
          "output_type": "stream",
          "name": "stdout",
          "text": [
            "first word of sentence' 150th : soldiers\n",
            "soldiers returned fire with artillery and machine guns and a gun battle broke out .                                                        "
          ]
        }
      ]
    },
    {
      "cell_type": "markdown",
      "source": [
        "- 각 데이터와 레이블의 크기 확인"
      ],
      "metadata": {
        "id": "mgG_Zj6oqa2A"
      }
    },
    {
      "cell_type": "code",
      "source": [
        "print('훈련 샘플 문장의 크기 : {}'.format(X_train.shape))\n",
        "print('훈련 샘플 레이블의 크기 : {}'.format(Y_train.shape))\n",
        "print('훈련 샘플 char 데이터의 크기 : {}'.format(X_char_train.shape))\n",
        "print('테스트 샘플 문장의 크기 : {}'.format(X_test.shape))\n",
        "print('테스트 샘플 레이블의 크기 : {}'.format(Y_test.shape))"
      ],
      "metadata": {
        "colab": {
          "base_uri": "https://localhost:8080/"
        },
        "id": "tYlrtEGTpC2f",
        "outputId": "a36ceab5-d82b-4d0a-ecdf-c85cb66ea3cb"
      },
      "execution_count": 70,
      "outputs": [
        {
          "output_type": "stream",
          "name": "stdout",
          "text": [
            "훈련 샘플 문장의 크기 : (38367, 70)\n",
            "훈련 샘플 레이블의 크기 : (38367, 70, 18)\n",
            "훈련 샘플 char 데이터의 크기 : (38367, 70, 15)\n",
            "테스트 샘플 문장의 크기 : (9592, 70)\n",
            "테스트 샘플 레이블의 크기 : (9592, 70, 18)\n"
          ]
        }
      ]
    },
    {
      "cell_type": "code",
      "source": [
        ""
      ],
      "metadata": {
        "id": "5TI3U39gs5Cr"
      },
      "execution_count": null,
      "outputs": []
    },
    {
      "cell_type": "markdown",
      "source": [
        "# 2. BiLSTM-CNN을 이용한 개체명 인식"
      ],
      "metadata": {
        "id": "ZjaWV_7UudI-"
      }
    },
    {
      "cell_type": "code",
      "source": [
        ""
      ],
      "metadata": {
        "id": "SA9Vhr-BuhQF"
      },
      "execution_count": null,
      "outputs": []
    }
  ]
}